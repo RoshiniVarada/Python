{
 "cells": [
  {
   "cell_type": "code",
   "execution_count": 11,
   "metadata": {},
   "outputs": [],
   "source": [
    "from keras import Sequential\n",
    "from keras.datasets import mnist\n",
    "import numpy as np\n",
    "from keras.layers import Dense\n",
    "from keras.utils import to_categorical\n",
    "import matplotlib.pyplot as plt"
   ]
  },
  {
   "cell_type": "code",
   "execution_count": 12,
   "metadata": {},
   "outputs": [],
   "source": [
    "(train_images,train_labels),(test_images, test_labels) = mnist.load_data()"
   ]
  },
  {
   "cell_type": "code",
   "execution_count": 13,
   "metadata": {},
   "outputs": [
    {
     "name": "stdout",
     "output_type": "stream",
     "text": [
      "(28, 28)\n"
     ]
    }
   ],
   "source": [
    "print(train_images.shape[1:])"
   ]
  },
  {
   "cell_type": "code",
   "execution_count": 4,
   "metadata": {},
   "outputs": [
    {
     "name": "stdout",
     "output_type": "stream",
     "text": [
      "784\n"
     ]
    }
   ],
   "source": [
    "#process the data\n",
    "#1. convert each image of shape 28*28 to 784 dimensional which will be fed to the network as a single feature\n",
    "dimData = np.prod(train_images.shape[1:])\n",
    "print(dimData)\n",
    "train_data = train_images.reshape(train_images.shape[0],dimData)\n",
    "test_data = test_images.reshape(test_images.shape[0],dimData)"
   ]
  },
  {
   "cell_type": "code",
   "execution_count": 14,
   "metadata": {},
   "outputs": [],
   "source": [
    "\n",
    "#convert data to float and scale values between 0 and 1\n",
    "train_data = train_data.astype('float')\n",
    "test_data = test_data.astype('float')\n"
   ]
  },
  {
   "cell_type": "code",
   "execution_count": 15,
   "metadata": {},
   "outputs": [],
   "source": [
    "#scaling the data\n",
    "train_data /=255.0\n",
    "test_data /=255.0"
   ]
  },
  {
   "cell_type": "code",
   "execution_count": 16,
   "metadata": {},
   "outputs": [],
   "source": [
    "#change the labels frominteger to one-hot encoding. to_categorical is doing the same thing as LabelEncoder()\n",
    "train_labels_one_hot = to_categorical(train_labels)\n",
    "test_labels_one_hot = to_categorical(test_labels)"
   ]
  },
  {
   "cell_type": "code",
   "execution_count": 17,
   "metadata": {},
   "outputs": [],
   "source": [
    "#creating network\n",
    "model = Sequential()\n",
    "model.add(Dense(512, activation='relu', input_shape=(dimData,)))\n",
    "model.add(Dense(512, activation='relu'))\n",
    "model.add(Dense(10, activation='softmax'))"
   ]
  },
  {
   "cell_type": "code",
   "execution_count": 18,
   "metadata": {},
   "outputs": [],
   "source": [
    "model.compile(optimizer='rmsprop', loss='categorical_crossentropy', metrics=['accuracy'])\n"
   ]
  },
  {
   "cell_type": "code",
   "execution_count": 19,
   "metadata": {},
   "outputs": [
    {
     "name": "stdout",
     "output_type": "stream",
     "text": [
      "WARNING:tensorflow:From D:\\d\\softwares\\Anaconda\\lib\\site-packages\\keras\\backend\\tensorflow_backend.py:422: The name tf.global_variables is deprecated. Please use tf.compat.v1.global_variables instead.\n",
      "\n",
      "Train on 60000 samples, validate on 10000 samples\n",
      "Epoch 1/10\n",
      "60000/60000 [==============================] - 4s 74us/step - loss: 1.0805 - accuracy: 0.6726 - val_loss: 0.6010 - val_accuracy: 0.8091\n",
      "Epoch 2/10\n",
      "60000/60000 [==============================] - 5s 76us/step - loss: 0.4493 - accuracy: 0.8661 - val_loss: 0.4057 - val_accuracy: 0.8744\n",
      "Epoch 3/10\n",
      "60000/60000 [==============================] - 4s 70us/step - loss: 0.3494 - accuracy: 0.8971 - val_loss: 0.3391 - val_accuracy: 0.8994\n",
      "Epoch 4/10\n",
      "60000/60000 [==============================] - 5s 90us/step - loss: 0.2999 - accuracy: 0.9125 - val_loss: 0.2891 - val_accuracy: 0.9122\n",
      "Epoch 5/10\n",
      "60000/60000 [==============================] - 6s 99us/step - loss: 0.2618 - accuracy: 0.9225 - val_loss: 0.2579 - val_accuracy: 0.9222\n",
      "Epoch 6/10\n",
      "60000/60000 [==============================] - 5s 85us/step - loss: 0.2302 - accuracy: 0.9315 - val_loss: 0.2325 - val_accuracy: 0.9299\n",
      "Epoch 7/10\n",
      "60000/60000 [==============================] - 5s 87us/step - loss: 0.2026 - accuracy: 0.9396 - val_loss: 0.2033 - val_accuracy: 0.9369\n",
      "Epoch 8/10\n",
      "60000/60000 [==============================] - 6s 93us/step - loss: 0.1790 - accuracy: 0.9477 - val_loss: 0.1838 - val_accuracy: 0.9439\n",
      "Epoch 9/10\n",
      "60000/60000 [==============================] - 6s 97us/step - loss: 0.1590 - accuracy: 0.9522 - val_loss: 0.1544 - val_accuracy: 0.9528\n",
      "Epoch 10/10\n",
      "60000/60000 [==============================] - 5s 87us/step - loss: 0.1417 - accuracy: 0.9570 - val_loss: 0.1441 - val_accuracy: 0.9560\n"
     ]
    }
   ],
   "source": [
    "history = model.fit(train_data, train_labels_one_hot, batch_size=256, epochs=10, verbose=1,\n",
    "                   validation_data=(test_data, test_labels_one_hot))"
   ]
  },
  {
   "cell_type": "code",
   "execution_count": 11,
   "metadata": {},
   "outputs": [
    {
     "name": "stdout",
     "output_type": "stream",
     "text": [
      "dict_keys(['val_loss', 'val_accuracy', 'loss', 'accuracy'])\n"
     ]
    },
    {
     "data": {
      "image/png": "[encoded data removed]",
      "text/plain": [
       "<Figure size 432x288 with 1 Axes>"
      ]
     },
     "metadata": {
      "needs_background": "light"
     },
     "output_type": "display_data"
    }
   ],
   "source": [
    "# Accuracy\n",
    "print(history.history.keys())\n",
    "plt.plot(history.history['accuracy'])\n",
    "plt.plot(history.history['val_accuracy'])\n",
    "plt.title('model accuracy')\n",
    "plt.ylabel('accuracy')\n",
    "plt.xlabel('epoch')\n",
    "plt.legend(['train', 'test'], loc='upper left')\n",
    "plt.show()"
   ]
  },
  {
   "cell_type": "code",
   "execution_count": 20,
   "metadata": {},
   "outputs": [
    {
     "data": {
      "image/png": "[encoded data removed]",
      "text/plain": [
       "<Figure size 432x288 with 1 Axes>"
      ]
     },
     "metadata": {
      "needs_background": "light"
     },
     "output_type": "display_data"
    }
   ],
   "source": [
    "# Loss\n",
    "plt.plot(history.history['loss'])\n",
    "plt.plot(history.history['val_loss'])\n",
    "plt.title('model loss')\n",
    "plt.ylabel('loss')\n",
    "plt.xlabel('epoch')\n",
    "plt.legend(['train', 'test'], loc='upper left')\n",
    "plt.show()\n"
   ]
  },
  {
   "cell_type": "code",
   "execution_count": 21,
   "metadata": {},
   "outputs": [
    {
     "name": "stdout",
     "output_type": "stream",
     "text": [
      "10000/10000 [==============================] - 1s 63us/step\n",
      "Evaluation result on Test Data : Loss = 0.14412049701064825, accuracy = 0.9559999704360962\n"
     ]
    },
    {
     "data": {
      "image/png": "[encoded data removed]",
      "text/plain": [
       "<Figure size 432x288 with 1 Axes>"
      ]
     },
     "metadata": {
      "needs_background": "light"
     },
     "output_type": "display_data"
    }
   ],
   "source": [
    "[test_loss, test_acc] = model.evaluate(test_data, test_labels_one_hot)\n",
    "print(\"Evaluation result on Test Data : Loss = {}, accuracy = {}\".format(test_loss, test_acc))\n",
    "image_index = 444\n",
    "plt.imshow(test_data[image_index].reshape(28, 28),cmap='Greys')\n",
    "plt.title(\"Image of Digit from the test data\")\n",
    "plt.show()"
   ]
  },
  {
   "cell_type": "code",
   "execution_count": 22,
   "metadata": {},
   "outputs": [
    {
     "name": "stdout",
     "output_type": "stream",
     "text": [
      "Predicted digit: 2\n",
      "dict_keys(['val_loss', 'val_accuracy', 'loss', 'accuracy'])\n"
     ]
    }
   ],
   "source": [
    "pred = model.predict(test_data[image_index].reshape(1,784))\n",
    "print(\"Predicted digit:\",pred.argmax())\n",
    "print(history.history.keys())"
   ]
  },
  {
   "cell_type": "code",
   "execution_count": null,
   "metadata": {},
   "outputs": [],
   "source": []
  }
 ],
 "metadata": {
  "kernelspec": {
   "display_name": "Python 3",
   "language": "python",
   "name": "python3"
  },
  "language_info": {
   "codemirror_mode": {
    "name": "ipython",
    "version": 3
   },
   "file_extension": ".py",
   "mimetype": "text/x-python",
   "name": "python",
   "nbconvert_exporter": "python",
   "pygments_lexer": "ipython3",
   "version": "3.7.6"
  }
 },
 "nbformat": 4,
 "nbformat_minor": 4
}
