{
 "cells": [
  {
   "cell_type": "code",
   "execution_count": 1,
   "metadata": {
    "colab": {
     "base_uri": "https://localhost:8080/",
     "height": 33
    },
    "colab_type": "code",
    "id": "pfYDB7jwOI4V",
    "outputId": "78c60996-4f71-47b1-fe14-298d973d8d8a"
   },
   "outputs": [
    {
     "name": "stderr",
     "output_type": "stream",
     "text": [
      "Using TensorFlow backend.\n",
      "D:\\d\\softwares\\Anaconda\\lib\\site-packages\\tensorflow\\python\\framework\\dtypes.py:516: FutureWarning: Passing (type, 1) or '1type' as a synonym of type is deprecated; in a future version of numpy, it will be understood as (type, (1,)) / '(1,)type'.\n",
      "  _np_qint8 = np.dtype([(\"qint8\", np.int8, 1)])\n",
      "D:\\d\\softwares\\Anaconda\\lib\\site-packages\\tensorflow\\python\\framework\\dtypes.py:517: FutureWarning: Passing (type, 1) or '1type' as a synonym of type is deprecated; in a future version of numpy, it will be understood as (type, (1,)) / '(1,)type'.\n",
      "  _np_quint8 = np.dtype([(\"quint8\", np.uint8, 1)])\n",
      "D:\\d\\softwares\\Anaconda\\lib\\site-packages\\tensorflow\\python\\framework\\dtypes.py:518: FutureWarning: Passing (type, 1) or '1type' as a synonym of type is deprecated; in a future version of numpy, it will be understood as (type, (1,)) / '(1,)type'.\n",
      "  _np_qint16 = np.dtype([(\"qint16\", np.int16, 1)])\n",
      "D:\\d\\softwares\\Anaconda\\lib\\site-packages\\tensorflow\\python\\framework\\dtypes.py:519: FutureWarning: Passing (type, 1) or '1type' as a synonym of type is deprecated; in a future version of numpy, it will be understood as (type, (1,)) / '(1,)type'.\n",
      "  _np_quint16 = np.dtype([(\"quint16\", np.uint16, 1)])\n",
      "D:\\d\\softwares\\Anaconda\\lib\\site-packages\\tensorflow\\python\\framework\\dtypes.py:520: FutureWarning: Passing (type, 1) or '1type' as a synonym of type is deprecated; in a future version of numpy, it will be understood as (type, (1,)) / '(1,)type'.\n",
      "  _np_qint32 = np.dtype([(\"qint32\", np.int32, 1)])\n",
      "D:\\d\\softwares\\Anaconda\\lib\\site-packages\\tensorflow\\python\\framework\\dtypes.py:525: FutureWarning: Passing (type, 1) or '1type' as a synonym of type is deprecated; in a future version of numpy, it will be understood as (type, (1,)) / '(1,)type'.\n",
      "  np_resource = np.dtype([(\"resource\", np.ubyte, 1)])\n"
     ]
    }
   ],
   "source": [
    "from keras.models import Sequential\n",
    "from keras import layers\n",
    "from keras.preprocessing.text import Tokenizer\n",
    "from keras.preprocessing.sequence import pad_sequences\n",
    "import pandas as pd\n",
    "from sklearn import preprocessing\n",
    "from sklearn.model_selection import train_test_split\n",
    "import numpy as np"
   ]
  },
  {
   "cell_type": "code",
   "execution_count": 2,
   "metadata": {
    "colab": {
     "base_uri": "https://localhost:8080/",
     "height": 150
    },
    "colab_type": "code",
    "id": "bL2nhGDcOMyC",
    "outputId": "10c97759-8470-4ee0-e72a-5cd6a82d09d0"
   },
   "outputs": [
    {
     "name": "stdout",
     "output_type": "stream",
     "text": [
      "   Unnamed: 0  type                                             review label  \\\n",
      "0           0  test  Once again Mr. Costner has dragged out a movie...   neg   \n",
      "1           1  test  This is an example of why the majority of acti...   neg   \n",
      "2           2  test  First of all I hate those moronic rappers, who...   neg   \n",
      "3           3  test  Not even the Beatles could write songs everyon...   neg   \n",
      "4           4  test  Brass pictures (movies is not a fitting word f...   neg   \n",
      "\n",
      "          file  \n",
      "0      0_2.txt  \n",
      "1  10000_4.txt  \n",
      "2  10001_1.txt  \n",
      "3  10002_3.txt  \n",
      "4  10003_3.txt  \n"
     ]
    }
   ],
   "source": [
    "df = pd.read_csv('imdb_master.csv', encoding='latin-1')\n",
    "print(df.head())"
   ]
  },
  {
   "cell_type": "code",
   "execution_count": 3,
   "metadata": {
    "colab": {},
    "colab_type": "code",
    "id": "JKbWBvYzQDLs"
   },
   "outputs": [],
   "source": [
    "sentences = df['review'].values\n",
    "y = df['label'].values"
   ]
  },
  {
   "cell_type": "code",
   "execution_count": 4,
   "metadata": {
    "colab": {},
    "colab_type": "code",
    "id": "A37lIFx7OS-q"
   },
   "outputs": [],
   "source": [
    "tokenizer = Tokenizer(num_words=2000)\n",
    "tokenizer.fit_on_texts(sentences)"
   ]
  },
  {
   "cell_type": "code",
   "execution_count": 5,
   "metadata": {
    "colab": {},
    "colab_type": "code",
    "id": "hXewXRljOfrD"
   },
   "outputs": [],
   "source": [
    "#getting the vocabulary of data\n",
    "sentences = tokenizer.texts_to_matrix(sentences)"
   ]
  },
  {
   "cell_type": "code",
   "execution_count": 6,
   "metadata": {
    "colab": {},
    "colab_type": "code",
    "id": "UxfIqZpEOoFn"
   },
   "outputs": [
    {
     "name": "stdout",
     "output_type": "stream",
     "text": [
      "2000\n"
     ]
    }
   ],
   "source": [
    "le = preprocessing.LabelEncoder()\n",
    "y = le.fit_transform(y)\n",
    "X_train, X_test, y_train, y_test = train_test_split(sentences, y, test_size=0.25, random_state=1000)\n",
    "input_dim=np.prod(X_train.shape[1:]) # defining input_dim\n",
    "# Number of features\n",
    "print(input_dim)"
   ]
  },
  {
   "cell_type": "code",
   "execution_count": 7,
   "metadata": {
    "colab": {
     "base_uri": "https://localhost:8080/",
     "height": 200
    },
    "colab_type": "code",
    "id": "TRy4ThvcOwt3",
    "outputId": "ef23ff77-3ac0-4e58-d9ad-a0be243c1c51"
   },
   "outputs": [
    {
     "name": "stdout",
     "output_type": "stream",
     "text": [
      "WARNING:tensorflow:From D:\\d\\softwares\\Anaconda\\lib\\site-packages\\keras\\backend\\tensorflow_backend.py:422: The name tf.global_variables is deprecated. Please use tf.compat.v1.global_variables instead.\n",
      "\n",
      "Train on 75000 samples, validate on 25000 samples\n",
      "Epoch 1/5\n",
      "75000/75000 [==============================] - 8s 109us/step - loss: 0.8809 - acc: 0.5032 - val_loss: 0.8417 - val_acc: 0.5167\n",
      "Epoch 2/5\n",
      "75000/75000 [==============================] - 8s 102us/step - loss: 0.7898 - acc: 0.5778 - val_loss: 0.8462 - val_acc: 0.5126\n",
      "Epoch 3/5\n",
      "75000/75000 [==============================] - 8s 108us/step - loss: 0.6813 - acc: 0.6853 - val_loss: 0.8757 - val_acc: 0.5089\n",
      "Epoch 4/5\n",
      "75000/75000 [==============================] - 7s 99us/step - loss: 0.4854 - acc: 0.8221 - val_loss: 0.9584 - val_acc: 0.5101\n",
      "Epoch 5/5\n",
      "75000/75000 [==============================] - 8s 103us/step - loss: 0.2763 - acc: 0.9313 - val_loss: 1.0735 - val_acc: 0.5050\n"
     ]
    }
   ],
   "source": [
    "model = Sequential()\n",
    "model.add(layers.Dense(300,input_dim= input_dim, activation='relu'))\n",
    "model.add(layers.Dense(3, activation='softmax')) #changing number of neuron to 3 as we have only two labels Pos and Neg and Sup\n",
    "                                                 #The activation layer is set to softmax as it works best for the multi class classification\n",
    "model.compile(loss='sparse_categorical_crossentropy',optimizer='adam',metrics=['acc'])\n",
    "history=model.fit(X_train,y_train, epochs=5, verbose=True, validation_data=(X_test,y_test), batch_size=256)"
   ]
  },
  {
   "cell_type": "code",
   "execution_count": 8,
   "metadata": {
    "colab": {
     "base_uri": "https://localhost:8080/",
     "height": 50
    },
    "colab_type": "code",
    "id": "NFyGTw50Z3bf",
    "outputId": "587a8e77-c1fc-4c9f-dc2f-00b9000e8a81"
   },
   "outputs": [
    {
     "name": "stdout",
     "output_type": "stream",
     "text": [
      "25000/25000 [==============================] - 1s 45us/step\n",
      "Evaluation result on Test Data : Loss = 1.073532747116089, accuracy = 0.5049600005149841\n"
     ]
    }
   ],
   "source": [
    "[test_loss, test_acc] = model.evaluate(X_test,y_test)\n",
    "print(\"Evaluation result on Test Data : Loss = {}, accuracy = {}\".format(test_loss, test_acc))"
   ]
  },
  {
   "cell_type": "code",
   "execution_count": 9,
   "metadata": {},
   "outputs": [
    {
     "data": {
      "image/png": "[encoded data removed]",
      "text/plain": [
       "<Figure size 432x288 with 1 Axes>"
      ]
     },
     "metadata": {
      "needs_background": "light"
     },
     "output_type": "display_data"
    }
   ],
   "source": [
    "# plotting loss and accuracy using history obj\n",
    "import matplotlib.pyplot as plt\n",
    "plt.plot(history.history['acc'])\n",
    "plt.plot(history.history['val_acc'])\n",
    "plt.plot(history.history['loss'])\n",
    "plt.plot(history.history['val_loss'])\n",
    "plt.title('model accuracy')\n",
    "plt.ylabel('accuracy')\n",
    "plt.xlabel('epoch')\n",
    "plt.legend(['accuray', 'validation accuracy','loss','val_loss'], loc='upper left')\n",
    "plt.show()"
   ]
  },
  {
   "cell_type": "code",
   "execution_count": 10,
   "metadata": {},
   "outputs": [],
   "source": [
    "# Adding Embedding layer to the model \n",
    "from keras.layers import Embedding, Flatten\n",
    "from keras.preprocessing.sequence import pad_sequences\n",
    "\n",
    "sentences = df['review']"
   ]
  },
  {
   "cell_type": "code",
   "execution_count": 11,
   "metadata": {},
   "outputs": [
    {
     "name": "stdout",
     "output_type": "stream",
     "text": [
      "Train on 75000 samples, validate on 25000 samples\n",
      "Epoch 1/5\n",
      "75000/75000 [==============================] - 361s 5ms/step - loss: 1.0719 - acc: 0.4937 - val_loss: 0.8676 - val_acc: 0.4964\n",
      "Epoch 2/5\n",
      "75000/75000 [==============================] - 377s 5ms/step - loss: 0.8446 - acc: 0.5125 - val_loss: 0.8476 - val_acc: 0.5003\n",
      "Epoch 3/5\n",
      "75000/75000 [==============================] - 358s 5ms/step - loss: 0.8092 - acc: 0.5314 - val_loss: 0.8418 - val_acc: 0.4992\n",
      "Epoch 4/5\n",
      "75000/75000 [==============================] - 381s 5ms/step - loss: 0.7680 - acc: 0.5684 - val_loss: 0.8495 - val_acc: 0.5010\n",
      "Epoch 5/5\n",
      "75000/75000 [==============================] - 398s 5ms/step - loss: 0.6947 - acc: 0.6361 - val_loss: 0.9156 - val_acc: 0.4954\n"
     ]
    }
   ],
   "source": [
    "max_review_len= max([len(s.split()) for s in sentences])\n",
    "vocab_size= len(tokenizer.word_index)+1\n",
    "sentences = tokenizer.texts_to_sequences(sentences)\n",
    "padded_docs= pad_sequences(sentences,maxlen=max_review_len)\n",
    "le = preprocessing.LabelEncoder()\n",
    "y = le.fit_transform(y)\n",
    "X_train, X_test, y_train, y_test = train_test_split(padded_docs, y, test_size=0.25, random_state=1000)\n",
    "\n",
    "model1 = Sequential()\n",
    "model1.add(Embedding(vocab_size, 50, input_length=max_review_len))\n",
    "model1.add(Flatten())\n",
    "model1.add(layers.Dense(300, activation='relu',input_dim=max_review_len))\n",
    "model1.add(layers.Dense(3, activation='softmax'))\n",
    "model1.compile(loss='sparse_categorical_crossentropy',optimizer='adam',metrics=['acc'])\n",
    "history1=model1.fit(X_train,y_train, epochs=5, verbose=True, validation_data=(X_test,y_test), batch_size=256)"
   ]
  },
  {
   "cell_type": "code",
   "execution_count": 13,
   "metadata": {},
   "outputs": [
    {
     "data": {
      "image/png": "[encoded data removed]",
      "text/plain": [
       "<Figure size 432x288 with 1 Axes>"
      ]
     },
     "metadata": {
      "needs_background": "light"
     },
     "output_type": "display_data"
    }
   ],
   "source": [
    "# plotting loss and accuracy using history obj\n",
    "import matplotlib.pyplot as plt\n",
    "plt.plot(history1.history['acc'])\n",
    "plt.plot(history1.history['val_acc'])\n",
    "plt.plot(history1.history['loss'])\n",
    "plt.plot(history1.history['val_loss'])\n",
    "plt.title('model accuracy')\n",
    "plt.ylabel('accuracy')\n",
    "plt.xlabel('epoch')\n",
    "plt.legend(['accuracy', 'validation accuracy','loss','val_loss'], loc='upper left')\n",
    "plt.show()"
   ]
  },
  {
   "cell_type": "code",
   "execution_count": 14,
   "metadata": {},
   "outputs": [
    {
     "name": "stdout",
     "output_type": "stream",
     "text": [
      "Train on 8485 samples, validate on 2829 samples\n",
      "Epoch 1/5\n",
      "8485/8485 [==============================] - 294s 35ms/step - loss: 11.1785 - acc: 0.0570 - val_loss: 3.2005 - val_acc: 0.0505\n",
      "Epoch 2/5\n",
      "8485/8485 [==============================] - 260s 31ms/step - loss: 3.0229 - acc: 0.0687 - val_loss: 2.9595 - val_acc: 0.0700\n",
      "Epoch 3/5\n",
      "8485/8485 [==============================] - 286s 34ms/step - loss: 2.8775 - acc: 0.1315 - val_loss: 2.8821 - val_acc: 0.0976\n",
      "Epoch 4/5\n",
      "8485/8485 [==============================] - 297s 35ms/step - loss: 2.7351 - acc: 0.1916 - val_loss: 2.7823 - val_acc: 0.1562\n",
      "Epoch 5/5\n",
      "8485/8485 [==============================] - 290s 34ms/step - loss: 2.5296 - acc: 0.2909 - val_loss: 2.6570 - val_acc: 0.2131\n"
     ]
    }
   ],
   "source": [
    "# Applying the same for 20news data \n",
    "from sklearn.datasets import fetch_20newsgroups\n",
    "newsgroups_train = fetch_20newsgroups(subset='train', shuffle=True)\n",
    "sentences = newsgroups_train.data\n",
    "y = newsgroups_train.target\n",
    "\n",
    "max_review_len= max([len(s.split()) for s in sentences])\n",
    "vocab_size= len(tokenizer.word_index)+1\n",
    "sentences = tokenizer.texts_to_sequences(sentences)\n",
    "padded_docs= pad_sequences(sentences,maxlen=max_review_len)\n",
    "le = preprocessing.LabelEncoder()\n",
    "y = le.fit_transform(y)\n",
    "X_train, X_test, y_train, y_test = train_test_split(padded_docs, y, test_size=0.25, random_state=1000)\n",
    "\n",
    "model2 = Sequential()\n",
    "model2.add(Embedding(vocab_size, 50, input_length=max_review_len))\n",
    "model2.add(Flatten())\n",
    "model2.add(layers.Dense(300, activation='relu',input_dim=max_review_len))\n",
    "model2.add(layers.Dense(20, activation='softmax'))\n",
    "model2.compile(loss='sparse_categorical_crossentropy',optimizer='adam',metrics=['acc'])\n",
    "historynew=model2.fit(X_train,y_train, epochs=5, verbose=True, validation_data=(X_test,y_test), batch_size=256)"
   ]
  },
  {
   "cell_type": "code",
   "execution_count": 16,
   "metadata": {},
   "outputs": [
    {
     "data": {
      "image/png": "[encoded data removed]",
      "text/plain": [
       "<Figure size 432x288 with 1 Axes>"
      ]
     },
     "metadata": {
      "needs_background": "light"
     },
     "output_type": "display_data"
    }
   ],
   "source": [
    "# plotting loss and accuracy using history obj\n",
    "import matplotlib.pyplot as plt\n",
    "plt.plot(historynew.history['acc'])\n",
    "plt.plot(historynew.history['val_acc'])\n",
    "plt.plot(historynew.history['loss'])\n",
    "plt.plot(historynew.history['val_loss'])\n",
    "plt.title('model accuracy')\n",
    "plt.ylabel('accuracy')\n",
    "plt.xlabel('epoch')\n",
    "plt.legend(['accuracy', 'validation accuracy','loss','val_loss'], loc='upper left')\n",
    "plt.show()"
   ]
  },
  {
   "cell_type": "code",
   "execution_count": 17,
   "metadata": {},
   "outputs": [
    {
     "name": "stdout",
     "output_type": "stream",
     "text": [
      "Actual Value: 4 Predicted Value [6]\n"
     ]
    }
   ],
   "source": [
    "# predicting over the 4th sample data\n",
    "print(\"Actual Value:\",y_test[4],\"Predicted Value\",model2.predict_classes(X_test[[4],:]))"
   ]
  }
 ],
 "metadata": {
  "colab": {
   "collapsed_sections": [],
   "include_colab_link": true,
   "name": "DL_ICP3_Q1.ipynb",
   "provenance": [],
   "toc_visible": true
  },
  "kernelspec": {
   "display_name": "Python 3",
   "language": "python",
   "name": "python3"
  },
  "language_info": {
   "codemirror_mode": {
    "name": "ipython",
    "version": 3
   },
   "file_extension": ".py",
   "mimetype": "text/x-python",
   "name": "python",
   "nbconvert_exporter": "python",
   "pygments_lexer": "ipython3",
   "version": "3.7.6"
  }
 },
 "nbformat": 4,
 "nbformat_minor": 1
}
